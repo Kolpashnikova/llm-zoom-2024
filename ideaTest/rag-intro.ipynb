{
 "cells": [
  {
   "cell_type": "code",
   "execution_count": 1,
   "id": "155f85a4-49cf-4489-afe8-bc595f622b3b",
   "metadata": {},
   "outputs": [],
   "source": [
    "#!wget https://raw.githubusercontent.com/alexeygrigorev/minsearch/main/minsearch.py"
   ]
  },
  {
   "cell_type": "code",
   "execution_count": 2,
   "id": "63b0fd25-41a2-48ad-b9bf-3f1265308bd4",
   "metadata": {},
   "outputs": [],
   "source": [
    "import minsearch"
   ]
  },
  {
   "cell_type": "code",
   "execution_count": 3,
   "id": "9b37cce2-ed84-408b-9106-d61360aa82c9",
   "metadata": {},
   "outputs": [],
   "source": [
    "import json"
   ]
  },
  {
   "cell_type": "code",
   "execution_count": 4,
   "id": "5bdaf6ce-2540-494f-989c-5b94b1b6626c",
   "metadata": {},
   "outputs": [],
   "source": [
    "with open('documents_topics.json', 'rt') as f_in:\n",
    "    docs_raw = json.load(f_in)"
   ]
  },
  {
   "cell_type": "code",
   "execution_count": 5,
   "id": "42b9b1f9-3c90-42b0-beb4-cb419f9cdcea",
   "metadata": {},
   "outputs": [],
   "source": [
    "documents = docs_raw"
   ]
  },
  {
   "cell_type": "code",
   "execution_count": 6,
   "id": "57de60e5-b96c-499c-a7cf-0f30fc33b324",
   "metadata": {},
   "outputs": [
    {
     "data": {
      "text/plain": [
       "{'topic': 'time, inequality, fear, gender, analysis, health, year, grant, experience, experiment, expertise, family, fellowship, help, group',\n",
       " 'text': 'I am writing to express my interest in the advertised post of Medical/Grant Writer. I completed my PhD in Quantitative Sociology at the University of British Columbia in 2017. Since then, I have done research at universities across the globe, including the University of Oxford and York University. I am currently an assistant professor at Western University. My research focuses on time use, social inequality, aging, and the fear of falling.'}"
      ]
     },
     "execution_count": 6,
     "metadata": {},
     "output_type": "execute_result"
    }
   ],
   "source": [
    "documents[0]"
   ]
  },
  {
   "cell_type": "markdown",
   "id": "8bfad826-f6b6-41d0-a128-b2f9fb02d0b8",
   "metadata": {},
   "source": [
    "# Elasticsearch"
   ]
  },
  {
   "cell_type": "markdown",
   "id": "e4e554aa-56b4-44f9-bfde-1ae237bb9ae2",
   "metadata": {},
   "source": [
    "don't forget to run docker:\n",
    "\n",
    "docker run -it \\\n",
    "    --rm \\\n",
    "    --name elasticsearch \\\n",
    "    -p 9200:9200 \\\n",
    "    -p 9300:9300 \\\n",
    "    -e \"discovery.type=single-node\" \\\n",
    "    -e \"xpack.security.enabled=false\" \\\n",
    "    docker.elastic.co/elasticsearch/elasticsearch:8.4.3"
   ]
  },
  {
   "cell_type": "code",
   "execution_count": 7,
   "id": "2c05052f-a85a-4137-8398-0fd0be678599",
   "metadata": {},
   "outputs": [],
   "source": [
    "from elasticsearch import Elasticsearch"
   ]
  },
  {
   "cell_type": "code",
   "execution_count": 8,
   "id": "a78df1cc-5a5a-40b4-b673-19c7f0319453",
   "metadata": {},
   "outputs": [],
   "source": [
    "es_client = Elasticsearch('http://localhost:9200') "
   ]
  },
  {
   "cell_type": "code",
   "execution_count": 9,
   "id": "7ef0815a-4eac-4eb5-aec2-c7c34937153c",
   "metadata": {},
   "outputs": [
    {
     "data": {
      "text/plain": [
       "ObjectApiResponse({'name': 'f0cf17e51237', 'cluster_name': 'docker-cluster', 'cluster_uuid': 'w45bI79kQvyIEfvaNrR7RA', 'version': {'number': '8.4.3', 'build_flavor': 'default', 'build_type': 'docker', 'build_hash': '42f05b9372a9a4a470db3b52817899b99a76ee73', 'build_date': '2022-10-04T07:17:24.662462378Z', 'build_snapshot': False, 'lucene_version': '9.3.0', 'minimum_wire_compatibility_version': '7.17.0', 'minimum_index_compatibility_version': '7.0.0'}, 'tagline': 'You Know, for Search'})"
      ]
     },
     "execution_count": 9,
     "metadata": {},
     "output_type": "execute_result"
    }
   ],
   "source": [
    "es_client.info()"
   ]
  },
  {
   "cell_type": "code",
   "execution_count": 10,
   "id": "c9367c18-41ad-495e-9920-1a0c552f0d18",
   "metadata": {},
   "outputs": [
    {
     "data": {
      "text/plain": [
       "ObjectApiResponse({'acknowledged': True, 'shards_acknowledged': True, 'index': 'cl-questions'})"
      ]
     },
     "execution_count": 10,
     "metadata": {},
     "output_type": "execute_result"
    }
   ],
   "source": [
    "index_settings = {\n",
    "    \"settings\": {\n",
    "        \"number_of_shards\": 1,\n",
    "        \"number_of_replicas\": 0\n",
    "    },\n",
    "    \"mappings\": {\n",
    "        \"properties\": {\n",
    "            \"text\": {\"type\": \"text\"},\n",
    "            \"topic\": {\"type\": \"text\"}\n",
    "        }\n",
    "    }\n",
    "}\n",
    "\n",
    "index_name = \"cl-questions\"\n",
    "\n",
    "es_client.indices.create(index=index_name, body=index_settings)"
   ]
  },
  {
   "cell_type": "code",
   "execution_count": 11,
   "id": "9f778c93-a5b6-4634-b42e-0c25083a2512",
   "metadata": {},
   "outputs": [
    {
     "data": {
      "text/plain": [
       "{'topic': 'time, inequality, fear, gender, analysis, health, year, grant, experience, experiment, expertise, family, fellowship, help, group',\n",
       " 'text': 'I am writing to express my interest in the advertised post of Medical/Grant Writer. I completed my PhD in Quantitative Sociology at the University of British Columbia in 2017. Since then, I have done research at universities across the globe, including the University of Oxford and York University. I am currently an assistant professor at Western University. My research focuses on time use, social inequality, aging, and the fear of falling.'}"
      ]
     },
     "execution_count": 11,
     "metadata": {},
     "output_type": "execute_result"
    }
   ],
   "source": [
    "documents[0]"
   ]
  },
  {
   "cell_type": "code",
   "execution_count": 12,
   "id": "5c230059-e219-4a13-a7f8-ede4cf1b028f",
   "metadata": {},
   "outputs": [],
   "source": [
    "from tqdm.auto import tqdm"
   ]
  },
  {
   "cell_type": "code",
   "execution_count": 13,
   "id": "70fe3c97-916d-42c0-bd7b-4f42d9056409",
   "metadata": {},
   "outputs": [
    {
     "data": {
      "application/vnd.jupyter.widget-view+json": {
       "model_id": "9c207c99e58549788c88cead551adc3c",
       "version_major": 2,
       "version_minor": 0
      },
      "text/plain": [
       "  0%|          | 0/141 [00:00<?, ?it/s]"
      ]
     },
     "metadata": {},
     "output_type": "display_data"
    }
   ],
   "source": [
    "for doc in tqdm(documents):\n",
    "    es_client.index(index=index_name, document=doc)"
   ]
  },
  {
   "cell_type": "code",
   "execution_count": 14,
   "id": "f1bc1244-b8dc-4228-8171-c0507004db93",
   "metadata": {},
   "outputs": [],
   "source": [
    "query = 'Strong understanding and experience working on issues related to anti-racism, equity, diversity, and inclusion concepts and principles'"
   ]
  },
  {
   "cell_type": "code",
   "execution_count": 15,
   "id": "7c72e000-910b-4fb5-aa88-2561e7bc39f2",
   "metadata": {},
   "outputs": [],
   "source": [
    "def elastic_search(query):\n",
    "    search_query = {\n",
    "        \"size\": 5,\n",
    "        \"query\": {\n",
    "            \"bool\": {\n",
    "                \"must\": {\n",
    "                    \"multi_match\": {\n",
    "                        \"query\": query,\n",
    "                        \"fields\": [\"topic\", \"text^3\"],\n",
    "                        \"type\": \"best_fields\"\n",
    "                    }\n",
    "                }\n",
    "            }\n",
    "        }\n",
    "    }\n",
    "\n",
    "    response = es_client.search(index=index_name, body=search_query)\n",
    "    \n",
    "    result_docs = []\n",
    "    \n",
    "    for hit in response['hits']['hits']:\n",
    "        result_docs.append(hit['_source'])\n",
    "    \n",
    "    return result_docs"
   ]
  },
  {
   "cell_type": "code",
   "execution_count": 16,
   "id": "aae53ab6-6bf5-4890-b783-be880217c074",
   "metadata": {},
   "outputs": [],
   "source": [
    "from openai import OpenAI"
   ]
  },
  {
   "cell_type": "code",
   "execution_count": 17,
   "id": "6a7d9041-6b66-496c-86ee-32d3110fa634",
   "metadata": {},
   "outputs": [],
   "source": [
    "client = OpenAI()"
   ]
  },
  {
   "cell_type": "code",
   "execution_count": 18,
   "id": "916ff267-13ed-4412-b5ce-a7a075ba0c23",
   "metadata": {},
   "outputs": [],
   "source": [
    "def search(query):\n",
    "    boost = {'topic': 0.5, 'text': 3.0}\n",
    "\n",
    "    results = index.search(\n",
    "        query=query,\n",
    "        boost_dict=boost,\n",
    "        num_results=5\n",
    "    )\n",
    "\n",
    "    return results"
   ]
  },
  {
   "cell_type": "code",
   "execution_count": 19,
   "id": "b9f005e9-5308-4c27-8eac-ce670cc4e6b2",
   "metadata": {},
   "outputs": [],
   "source": [
    "def build_prompt(query, search_results):\n",
    "    prompt_template = \"\"\"\n",
    "You're a job applicant with a PhD. Write a paragraph addressing the CRITERION based on the CONTEXT from the database.\n",
    "Use only the facts from the CONTEXT when answering the QUESTION. Do not add additional information.\n",
    "\n",
    "CRITERION: {question}\n",
    "\n",
    "CONTEXT: \n",
    "{context}\n",
    "\"\"\".strip()\n",
    "\n",
    "    context = \"\"\n",
    "    \n",
    "    for doc in search_results:\n",
    "        context = context + f\"topic: {doc['topic']}\\ntext: {doc['text']}\\n\\n\"\n",
    "    \n",
    "    prompt = prompt_template.format(question=query, context=context).strip()\n",
    "    return prompt"
   ]
  },
  {
   "cell_type": "code",
   "execution_count": 20,
   "id": "3ea2cbd4-1ae7-43c6-a91e-84cf4e4c2cb3",
   "metadata": {},
   "outputs": [],
   "source": [
    "def llm(prompt):\n",
    "    response = client.chat.completions.create(\n",
    "        model='gpt-4',\n",
    "        messages=[{\"role\": \"user\", \"content\": prompt}]\n",
    "    )\n",
    "    \n",
    "    return response.choices[0].message.content"
   ]
  },
  {
   "cell_type": "code",
   "execution_count": 21,
   "id": "3c50e579-77dc-4a91-8ffe-e390be4b857a",
   "metadata": {},
   "outputs": [],
   "source": [
    "search_results = elastic_search(query)"
   ]
  },
  {
   "cell_type": "code",
   "execution_count": 22,
   "id": "ef6bdefd-6fb3-4e94-8de9-c3843da15e02",
   "metadata": {},
   "outputs": [
    {
     "data": {
      "text/plain": [
       "[{'topic': 'organization, issue, proposal, expertise, fellowship, gender, project, output, experience, student, housework, help, health, group, equality',\n",
       "  'text': 'I have extensive experience working on cutting-edge projects in demography, sociology, and medical sociology, where I have researched issues such as sexism, ageism, and racism. These societal concerns are often reflected in the selection criteria of many granting organizations. For example, Tri-Council fellowships require applicants to clearly demonstrate how their research addresses gender-related issues and inequities. As a sociologist, I am trained to align proposals with these priorities. My expertise and experience make me well-suited to guide graduate students in adapting their proposals to meet the requirements of granting organizations.'},\n",
       " {'topic': 'organization, issue, proposal, expertise, fellowship, gender, project, output, experience, student, housework, help, health, group, equality',\n",
       "  'text': 'I have extensive experience working on cutting-edge projects in demography, sociology, and medical sociology, where I have researched issues such as sexism, ageism, and racism. These societal concerns are often reflected in the selection criteria of many granting organizations. For example, Tri-Council fellowships require applicants to clearly demonstrate how their research addresses gender-related issues and inequities. As a sociologist, I am trained to align proposals with these priorities. My expertise and experience make me well-suited to guide scholars in adapting their proposals to meet the requirements of granting organizations.'},\n",
       " {'topic': 'activity, service, equality, gender, editor, process, science, method, group, experiment, expertise, family, fear, fellowship, adult',\n",
       "  'text': 'The advertised opening’s open nature and the potential for collaborative research and grant generation is especially appealing to me. As a sociologist and demographer with a broad range of research interests, I also hope to contribute to the existing strengths of the Department by teaching quantitative research methods, demography, ageing, gender relations, inequality, and computational social science. Additionally, I hope to contribute to administrative work by engaging in activities related to diversity and inclusion. At Oxford, I take an active part on the board of the Self-Assessment Team, which prepares the Sociology Department’s application for the Athena SWAN bronze award in gender equality. I also serve as an associate editor for the Journal of Marriage and Family, Journal of Comparative Family Studies and am a guest editor for the Journal of Population Ageing. I hope that my experiences with editorial work and publishing will prove helpful to colleagues in the Department.'},\n",
       " {'topic': 'proposal, budget, grant, year, book, experience, topic, review, analysis, image, fellowship, instrument, experiment, expertise, family',\n",
       "  'text': 'Through my experiences of applying to funding agencies in Canada, Europe, the UK, and Japan, I have gained a thorough understanding of their needs, requirements, and unique characteristics. My understanding was further deepened during my postdoctoral years at Oxford and York, where I participated in several training programs on grant applications, including York University’s Grant Clinic. I have also been a collaborator on a successful SSHRC Insight Grant and an unsuccessful Open Research Area 7 proposal (SSHRC in Canada, ESRC in the UK, and ARC in France), where we developed detailed budgets and knowledge management plans. This experience, both in developing my own grants and collaborating on others’, has prepared me with the skills to assist other scholars in creating detailed plans and budgets for their proposals.'},\n",
       " {'topic': 'proposal, budget, grant, year, book, experience, topic, review, analysis, image, fellowship, instrument, experiment, expertise, family',\n",
       "  'text': 'Through my experiences of applying to funding agencies in Canada, Europe, the UK, and Japan, I have gained a thorough understanding of their needs, requirements, and unique characteristics. My understanding was further deepened during my postdoctoral years at Oxford and York, where I participated in several training programs on grant applications, including York University’s Grant Clinic. I have also been a collaborator on a successful SSHRC Insight Grant and an unsuccessful Open Research Area 7 proposal (SSHRC in Canada, ESRC in the UK, and ARC in France), where we developed detailed budgets and knowledge management plans. This experience, both in developing my own grants and collaborating on others’, has prepared me with the skills to assist graduate students and researchers in creating detailed plans and budgets for their proposals.'}]"
      ]
     },
     "execution_count": 22,
     "metadata": {},
     "output_type": "execute_result"
    }
   ],
   "source": [
    "search_results"
   ]
  },
  {
   "cell_type": "code",
   "execution_count": 23,
   "id": "81abecbc-eb6b-428f-ab7d-7e21f58b64de",
   "metadata": {},
   "outputs": [],
   "source": [
    "def rag(query):\n",
    "    search_results = elastic_search(query)\n",
    "    prompt = build_prompt(query, search_results)\n",
    "    answer = llm(prompt)\n",
    "    return answer"
   ]
  },
  {
   "cell_type": "code",
   "execution_count": 24,
   "id": "0ea9315a-a619-4066-9e90-8c260f2c8450",
   "metadata": {},
   "outputs": [
    {
     "data": {
      "text/plain": [
       "'My experience and expertise in researching societal issues has equipped me with a deep understanding of concepts and principles related to anti-racism, equity, diversity, and inclusion. Working on projects in demography, sociology, and medical sociology, I have explored relatively complex issues such as sexism, ageism, and racism. As a sociologist, I have navigated these subjects by aligning my proposals with the priorities of different granting organizations focused on gender-related problems and inequalities. I have also served on the Self-Assessment Team at Oxford University, which aids in preparing the Sociology Department’s application for the prestigious Athena SWAN bronze award in gender equality, showing my dedication to diversity and inclusion initiatives. Furthermore, I have partaken in administrative activities rooted in advancing diversity and inclusion, attesting to my robust understanding of these important principles.'"
      ]
     },
     "execution_count": 24,
     "metadata": {},
     "output_type": "execute_result"
    }
   ],
   "source": [
    "rag(query)"
   ]
  },
  {
   "cell_type": "code",
   "execution_count": 25,
   "id": "4afa2ee1-6755-40cf-a3e8-26b9ebe00915",
   "metadata": {},
   "outputs": [
    {
     "data": {
      "text/plain": [
       "'Based on my previous research expertise, I have amassed a wealth of experience in working with complex survey data that spans across demographic and experiential questions among others. For instance, in my study of global societies, I have extensively dealt with prominent national-level data such as the Canadian General Social Survey, American Time Use Survey, and Japanese Survey on Time Use and Leisure Activities, to name but a few. I also have experience with multinational surveys including the International Social Survey Programme, Multinational Time Use Study (MTUS), and Survey of Health, Ageing, and Retirement in Europe. Further, within these surveys, I have harmonized datasets from different cultural contexts, thus gaining significant experience in analyzing qualitative data. Coupled with my skills in programming languages such as R and Python, I have developed a number of data visualization packages that ease analysis and visualization of data, especially in the realm of time-use data.'"
      ]
     },
     "execution_count": 25,
     "metadata": {},
     "output_type": "execute_result"
    }
   ],
   "source": [
    "rag('Previous experience working with survey data, including demographic questions, experiential questions, and analyzing qualitative data.')"
   ]
  },
  {
   "cell_type": "code",
   "execution_count": 26,
   "id": "b0242e0c-f9e7-4062-96e5-60810eee4c7e",
   "metadata": {},
   "outputs": [
    {
     "data": {
      "text/plain": [
       "\"As a holder of a doctorate in quantitative sociology from the University of British Columbia and currently a postdoctoral fellow at York University, I am well-versed in the importance of data visualization in research and academia. I've utilized my expertise in data analysis and visualization to develop online visualization tools for various projects. These tools, such as the one I created for ATUS-X caregivers’ data, effectively translate complex data for academics working with time use data. When I noticed the usage struggles of the original PHP+SQL-based tool, I transformed it into more accessible R packages. My portfolio showcases select visualizations and underlines my consistent endeavor to generate user-friendly, interactive data visualizations to enhance the understanding of the data. I am confident that my extensive experience and knowledge in creating effective visualizations will be a valuable asset.\""
      ]
     },
     "execution_count": 26,
     "metadata": {},
     "output_type": "execute_result"
    }
   ],
   "source": [
    "rag('Understanding the importance of data visualization.')"
   ]
  },
  {
   "cell_type": "code",
   "execution_count": 29,
   "id": "88d6d7ce-1334-4be6-8158-367ab8912410",
   "metadata": {},
   "outputs": [
    {
     "data": {
      "text/plain": [
       "'In alignment with your criterion, I offer extensive skills in MS Office Suite, with particular proficiency in Excel, essential for managing and analyzing data. Moreover, my proficiency extends to key statistical software, including Stata and SPSS, enabling robust data analysis and research. My competency in such tools is reflected in numerous projects, as documented on my GitHub pages. Additionally, I am experienced in using programming languages such as R and Python, further expanding my capabilities in data management and statistical analysis. With my technical proficiencies and vast experience, I am well equipped to bring a significant contribution to your team, particularly in handling large datasets, overseeing data analysis, and delivering data-driven insights.'"
      ]
     },
     "execution_count": 29,
     "metadata": {},
     "output_type": "execute_result"
    }
   ],
   "source": [
    "rag('Proficient in MS Office Suite e.g. Word, Excel, PowerPoint, etc. and statistical analysis software e.g. SPSS, SAS, Stata, R.')"
   ]
  },
  {
   "cell_type": "code",
   "execution_count": 32,
   "id": "56e06fdc-0719-4aac-9d5f-0b38ee1a18ec",
   "metadata": {},
   "outputs": [
    {
     "data": {
      "text/plain": [
       "'Throughout my academic and research career, I have shown a deep commitment to working in diverse cultural contexts. This interest is evidenced by my research and analysis of data sources from across North America, Europe, Central Asia and East Asia. Over the years, I have acquired a unique proficiency working with national and multinational datasets from these regions. This has not only reinforced my adaptability and versatility while working with diverse cultures but also familiarized me with the methodological nuances of dealing with multiple data sources. In addition, my broad-based research on gender inequality and unpaid work across different socio-cultural contexts has been published in leading journals, a further testament of my versatility and comfort in diverse settings. My experiences ensure that I am well equipped to work and live in varying cultural contexts which in turn fosters my commitment towards enriching the roles I undertake.'"
      ]
     },
     "execution_count": 32,
     "metadata": {},
     "output_type": "execute_result"
    }
   ],
   "source": [
    "rag('Comfortable working in diverse cultural contexts, and living in different countries.')"
   ]
  },
  {
   "cell_type": "code",
   "execution_count": 34,
   "id": "5c7a35f1-73c8-42cc-b5f3-20037badc505",
   "metadata": {},
   "outputs": [
    {
     "data": {
      "text/plain": [
       "'I have indeed demonstrated my quantitative and qualitative analytical skills throughout my academic and research career. My proficiency in both quantitative and qualitative research was honed from my tenure at Oxford where I used state-of-the-art quantitative methodologies including sequence analysis and multi-level mixed-effect models to analyze and investigate the variations in time-use among women caregivers and older adults. My expertise extends to a diverse range of research interests, machine learning included, which I plan to utilize to its full extent for further growth and development of this project, especially given the large complex legacy data. Recently, I led workshops on sequence analysis at Oxford, teaching early career researchers, showcasing my ability to impart knowledge as well as learn from it. I also have a robust training in statistics and am able to use a variety of programming languages and analysis tools, which I have employed in my research and communication initiatives. I am confident that these skills will be highly beneficial in teaching and engaging in meaningful communication.'"
      ]
     },
     "execution_count": 34,
     "metadata": {},
     "output_type": "execute_result"
    }
   ],
   "source": [
    "rag('Demonstrated quantitative and qualitative analytical skills')"
   ]
  },
  {
   "cell_type": "code",
   "execution_count": null,
   "id": "bf4d7d68-21dc-4af9-b9cd-5f58f2a09949",
   "metadata": {},
   "outputs": [],
   "source": []
  }
 ],
 "metadata": {
  "kernelspec": {
   "display_name": "Python 3 (ipykernel)",
   "language": "python",
   "name": "python3"
  },
  "language_info": {
   "codemirror_mode": {
    "name": "ipython",
    "version": 3
   },
   "file_extension": ".py",
   "mimetype": "text/x-python",
   "name": "python",
   "nbconvert_exporter": "python",
   "pygments_lexer": "ipython3",
   "version": "3.10.13"
  }
 },
 "nbformat": 4,
 "nbformat_minor": 5
}
